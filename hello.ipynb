{
 "cells": [
  {
   "cell_type": "code",
   "execution_count": 4,
   "id": "b39620e1",
   "metadata": {},
   "outputs": [],
   "source": [
    "import numpy as np\n",
    "import pandas as pd\n",
    "import seaborn as sns\n"
   ]
  },
  {
   "cell_type": "code",
   "execution_count": 11,
   "id": "6404fba9",
   "metadata": {},
   "outputs": [
    {
     "data": {
      "text/plain": [
       "(404351, 6)"
      ]
     },
     "execution_count": 11,
     "metadata": {},
     "output_type": "execute_result"
    }
   ],
   "source": [
    "#importing csv file using pandas\n",
    "df = pd.read_csv(\"questions.csv\")\n",
    "df.shape"
   ]
  },
  {
   "cell_type": "code",
   "execution_count": 8,
   "id": "216fad46",
   "metadata": {},
   "outputs": [
    {
     "data": {
      "text/html": [
       "<div>\n",
       "<style scoped>\n",
       "    .dataframe tbody tr th:only-of-type {\n",
       "        vertical-align: middle;\n",
       "    }\n",
       "\n",
       "    .dataframe tbody tr th {\n",
       "        vertical-align: top;\n",
       "    }\n",
       "\n",
       "    .dataframe thead th {\n",
       "        text-align: right;\n",
       "    }\n",
       "</style>\n",
       "<table border=\"1\" class=\"dataframe\">\n",
       "  <thead>\n",
       "    <tr style=\"text-align: right;\">\n",
       "      <th></th>\n",
       "      <th>id</th>\n",
       "      <th>qid1</th>\n",
       "      <th>qid2</th>\n",
       "      <th>question1</th>\n",
       "      <th>question2</th>\n",
       "      <th>is_duplicate</th>\n",
       "    </tr>\n",
       "  </thead>\n",
       "  <tbody>\n",
       "    <tr>\n",
       "      <th>115939</th>\n",
       "      <td>115939</td>\n",
       "      <td>229826</td>\n",
       "      <td>229827</td>\n",
       "      <td>What are some inventions of the Renaissance re...</td>\n",
       "      <td>What are some inventions of the Renaissance re...</td>\n",
       "      <td>0</td>\n",
       "    </tr>\n",
       "    <tr>\n",
       "      <th>248700</th>\n",
       "      <td>248700</td>\n",
       "      <td>489698</td>\n",
       "      <td>489699</td>\n",
       "      <td>How can I grow taller?</td>\n",
       "      <td>I'm 16 and 5'2.5. How can I ACTIVELY grow taller?</td>\n",
       "      <td>1</td>\n",
       "    </tr>\n",
       "    <tr>\n",
       "      <th>312102</th>\n",
       "      <td>312102</td>\n",
       "      <td>612608</td>\n",
       "      <td>612609</td>\n",
       "      <td>How to creat a blog on quora?</td>\n",
       "      <td>How can I create a blog on Quora?</td>\n",
       "      <td>1</td>\n",
       "    </tr>\n",
       "    <tr>\n",
       "      <th>42394</th>\n",
       "      <td>42394</td>\n",
       "      <td>84435</td>\n",
       "      <td>84436</td>\n",
       "      <td>Why didn't Marvel continue Andrew Garfield as ...</td>\n",
       "      <td>Why didn't Marvel cast Andrew Garfield as Spid...</td>\n",
       "      <td>1</td>\n",
       "    </tr>\n",
       "    <tr>\n",
       "      <th>390107</th>\n",
       "      <td>390107</td>\n",
       "      <td>762554</td>\n",
       "      <td>762555</td>\n",
       "      <td>What are the best ways to lose weight?</td>\n",
       "      <td>What is the best way to lose weight and not ga...</td>\n",
       "      <td>1</td>\n",
       "    </tr>\n",
       "    <tr>\n",
       "      <th>237500</th>\n",
       "      <td>237500</td>\n",
       "      <td>467854</td>\n",
       "      <td>467855</td>\n",
       "      <td>What is the difference between provident fund ...</td>\n",
       "      <td>What is the difference between a core bond fun...</td>\n",
       "      <td>0</td>\n",
       "    </tr>\n",
       "    <tr>\n",
       "      <th>196382</th>\n",
       "      <td>196382</td>\n",
       "      <td>387596</td>\n",
       "      <td>387597</td>\n",
       "      <td>What other business options with computer cent...</td>\n",
       "      <td>Does love drive us to go on living?</td>\n",
       "      <td>0</td>\n",
       "    </tr>\n",
       "    <tr>\n",
       "      <th>152724</th>\n",
       "      <td>152724</td>\n",
       "      <td>302084</td>\n",
       "      <td>302085</td>\n",
       "      <td>What is a charity?</td>\n",
       "      <td>What is charity?</td>\n",
       "      <td>1</td>\n",
       "    </tr>\n",
       "    <tr>\n",
       "      <th>1028</th>\n",
       "      <td>1028</td>\n",
       "      <td>2057</td>\n",
       "      <td>2058</td>\n",
       "      <td>Does Stripe or Square-Up act as an \"agent\" to ...</td>\n",
       "      <td>Is a license needed to operate as a payment pr...</td>\n",
       "      <td>0</td>\n",
       "    </tr>\n",
       "    <tr>\n",
       "      <th>338179</th>\n",
       "      <td>338179</td>\n",
       "      <td>662966</td>\n",
       "      <td>662967</td>\n",
       "      <td>Which is the best book or material to understa...</td>\n",
       "      <td>What are the best books for control engineerin...</td>\n",
       "      <td>0</td>\n",
       "    </tr>\n",
       "  </tbody>\n",
       "</table>\n",
       "</div>"
      ],
      "text/plain": [
       "            id    qid1    qid2  \\\n",
       "115939  115939  229826  229827   \n",
       "248700  248700  489698  489699   \n",
       "312102  312102  612608  612609   \n",
       "42394    42394   84435   84436   \n",
       "390107  390107  762554  762555   \n",
       "237500  237500  467854  467855   \n",
       "196382  196382  387596  387597   \n",
       "152724  152724  302084  302085   \n",
       "1028      1028    2057    2058   \n",
       "338179  338179  662966  662967   \n",
       "\n",
       "                                                question1  \\\n",
       "115939  What are some inventions of the Renaissance re...   \n",
       "248700                             How can I grow taller?   \n",
       "312102                      How to creat a blog on quora?   \n",
       "42394   Why didn't Marvel continue Andrew Garfield as ...   \n",
       "390107             What are the best ways to lose weight?   \n",
       "237500  What is the difference between provident fund ...   \n",
       "196382  What other business options with computer cent...   \n",
       "152724                                 What is a charity?   \n",
       "1028    Does Stripe or Square-Up act as an \"agent\" to ...   \n",
       "338179  Which is the best book or material to understa...   \n",
       "\n",
       "                                                question2  is_duplicate  \n",
       "115939  What are some inventions of the Renaissance re...             0  \n",
       "248700  I'm 16 and 5'2.5. How can I ACTIVELY grow taller?             1  \n",
       "312102                  How can I create a blog on Quora?             1  \n",
       "42394   Why didn't Marvel cast Andrew Garfield as Spid...             1  \n",
       "390107  What is the best way to lose weight and not ga...             1  \n",
       "237500  What is the difference between a core bond fun...             0  \n",
       "196382                Does love drive us to go on living?             0  \n",
       "152724                                   What is charity?             1  \n",
       "1028    Is a license needed to operate as a payment pr...             0  \n",
       "338179  What are the best books for control engineerin...             0  "
      ]
     },
     "execution_count": 8,
     "metadata": {},
     "output_type": "execute_result"
    }
   ],
   "source": [
    "#sampling top 10 data sets\n",
    "df.sample(10)"
   ]
  },
  {
   "cell_type": "code",
   "execution_count": 12,
   "id": "b5a4a78b",
   "metadata": {},
   "outputs": [
    {
     "data": {
      "text/plain": [
       "id              0\n",
       "qid1            0\n",
       "qid2            0\n",
       "question1       1\n",
       "question2       2\n",
       "is_duplicate    0\n",
       "dtype: int64"
      ]
     },
     "execution_count": 12,
     "metadata": {},
     "output_type": "execute_result"
    }
   ],
   "source": [
    "#checking if there are missing values\n",
    "df.isnull().sum()"
   ]
  },
  {
   "cell_type": "code",
   "execution_count": 10,
   "id": "6500988f",
   "metadata": {},
   "outputs": [
    {
     "data": {
      "text/plain": [
       "0"
      ]
     },
     "execution_count": 10,
     "metadata": {},
     "output_type": "execute_result"
    }
   ],
   "source": [
    "#checking if there is duplicate values(rows)\n",
    "df.duplicated().sum()"
   ]
  },
  {
   "cell_type": "code",
   "execution_count": null,
   "id": "989af20c",
   "metadata": {},
   "outputs": [],
   "source": []
  }
 ],
 "metadata": {
  "kernelspec": {
   "display_name": "Python 3 (ipykernel)",
   "language": "python",
   "name": "python3"
  },
  "language_info": {
   "codemirror_mode": {
    "name": "ipython",
    "version": 3
   },
   "file_extension": ".py",
   "mimetype": "text/x-python",
   "name": "python",
   "nbconvert_exporter": "python",
   "pygments_lexer": "ipython3",
   "version": "3.8.9"
  }
 },
 "nbformat": 4,
 "nbformat_minor": 5
}
